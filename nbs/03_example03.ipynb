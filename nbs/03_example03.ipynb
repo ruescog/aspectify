{
 "cells": [
  {
   "cell_type": "code",
   "execution_count": null,
   "id": "f0059a1b-cbe3-447b-95ed-5a78a2b87849",
   "metadata": {},
   "outputs": [],
   "source": [
    "#| default_exp examples"
   ]
  },
  {
   "cell_type": "code",
   "execution_count": null,
   "id": "bb4be099-f04f-4342-b565-e90fc7bf72f2",
   "metadata": {},
   "outputs": [],
   "source": [
    "#| hide\n",
    "from nbdev.showdoc import *"
   ]
  },
  {
   "cell_type": "markdown",
   "id": "598bf9cb-5c26-4c6b-ac04-ade3d7a411b2",
   "metadata": {},
   "source": [
    "# Third Example. Creating advices."
   ]
  },
  {
   "cell_type": "markdown",
   "id": "8f0e2f3e-da64-4536-b9b5-93a30ffbbf6a",
   "metadata": {},
   "source": [
    "As we have seen before, it is needed to pass a `function` to the `set_moment` (`before`, `after`...) methods. Those methods define `advice`s that will be used to add the new functionallity.\n",
    "\n",
    "During this example, we will explain what those functions look like.\n",
    "\n",
    "> **REMEMBER**:\n",
    "Trying to be as clean as possible, we strongly recomend you to create a **new** `aspects.py` file and add the `Aspect`s to this file."
   ]
  },
  {
   "cell_type": "markdown",
   "id": "2a1cb6ea-e6fc-4e91-b045-ad6dff826c7c",
   "metadata": {},
   "source": [
    "## Library import"
   ]
  },
  {
   "cell_type": "markdown",
   "id": "0a920725-6026-48e9-8ed8-652a5e2f54d8",
   "metadata": {},
   "source": [
    "First of all, we need to import to the `Aspect`s file the libraries and modules that will be used. In this case, `random`."
   ]
  },
  {
   "cell_type": "code",
   "execution_count": null,
   "id": "ac41d8d0-7a35-4468-a608-efee0fd57af5",
   "metadata": {},
   "outputs": [],
   "source": [
    "from aspectify.aop import Aspect\n",
    "from random import Random"
   ]
  },
  {
   "cell_type": "markdown",
   "id": "0f65209a-2d6b-42d0-bb6d-ba06aae96bb6",
   "metadata": {},
   "source": [
    "Additionally, we need to define the `get_classes` method."
   ]
  },
  {
   "cell_type": "code",
   "execution_count": null,
   "id": "d979e0a0-57e6-4070-a793-4f721dae66ac",
   "metadata": {},
   "outputs": [],
   "source": [
    "def get_classes():\n",
    "    return [element for element in list(globals().items())]"
   ]
  },
  {
   "cell_type": "markdown",
   "id": "7a74bc24-610f-4ae4-85db-2f96cd44cb07",
   "metadata": {},
   "source": [
    "## `advice` definition"
   ]
  },
  {
   "cell_type": "markdown",
   "id": "978a3b7e-593a-453e-acce-b34f525751d9",
   "metadata": {},
   "source": [
    "In this example, we will define an `Aspect` called `test_aspect`, and we will modify it behaviour during the example."
   ]
  },
  {
   "cell_type": "code",
   "execution_count": null,
   "id": "23365cf7-99af-4bc9-9ab0-9c8b41561bf9",
   "metadata": {},
   "outputs": [],
   "source": [
    "test_aspect = Aspect()"
   ]
  },
  {
   "cell_type": "markdown",
   "id": "a207cad5-fc9a-4c03-ab96-35faaafe3492",
   "metadata": {},
   "source": [
    "As previously seen, we can add a `before` `advice`, just using the `set_before` method."
   ]
  },
  {
   "cell_type": "code",
   "execution_count": null,
   "id": "ec91691b-ba4c-4422-b0d6-9e7f5525d432",
   "metadata": {},
   "outputs": [],
   "source": [
    "test_aspect.set_before(lambda *a, **k: print(\"catched!\"))"
   ]
  },
  {
   "cell_type": "markdown",
   "id": "2614abdf-9b62-4a4b-b997-c8e8db956c35",
   "metadata": {},
   "source": [
    "As we can see, the used `lambda` has two input parameters, `*a` and `**k`, representing all the parameters that the original method can have.\n",
    "\n",
    "> **REMEMBER**: We can access to the parameters used in the original call of the catched method.\n",
    "\n",
    "In this case, those parameters are ignored, because the method just `print` a message.\n",
    "\n",
    "`*a` and `**k` input parameters will be used in all the `advice`s definitions except in the definition of the method `after_throwing`, where we must recieve a third input parameter `e`: the raised exception. For example:"
   ]
  },
  {
   "cell_type": "code",
   "execution_count": null,
   "id": "eee57a82-2dce-4372-8e63-cf46ae8131e0",
   "metadata": {},
   "outputs": [],
   "source": [
    "test_aspect.set_after_throwing(lambda e, *a, **k: print(e, \" was raised.\"))"
   ]
  },
  {
   "cell_type": "markdown",
   "id": "7a7b2db3-40d6-434b-abbe-b53019c027e7",
   "metadata": {},
   "source": [
    "We can add these new functionallity to some methods in random, for example those starting with the letter 'c'."
   ]
  },
  {
   "cell_type": "code",
   "execution_count": null,
   "id": "941cbd53-185b-4933-9d31-41c91e2e47c9",
   "metadata": {},
   "outputs": [
    {
     "name": "stdout",
     "output_type": "stream",
     "text": [
      "Captured method: random.Random.choice\n",
      "Captured method: random.Random.choices\n"
     ]
    }
   ],
   "source": [
    "test_aspect.create_pointcut(get_classes(), \".*\\.Random\\.c.*\")"
   ]
  },
  {
   "cell_type": "markdown",
   "id": "4e86840e-2377-4d24-86cd-62cd414bf459",
   "metadata": {},
   "source": [
    "## Results"
   ]
  },
  {
   "cell_type": "markdown",
   "id": "86d8958d-b233-4ee9-8dab-887ca4496cce",
   "metadata": {},
   "source": [
    "Now, we can call the `choice` method, which will return a random object inside an `Iterable` (something that can be iterated)."
   ]
  },
  {
   "cell_type": "code",
   "execution_count": null,
   "id": "204fa615-1838-42a6-8b1c-628215a0597f",
   "metadata": {},
   "outputs": [
    {
     "name": "stdout",
     "output_type": "stream",
     "text": [
      "catched!\n"
     ]
    },
    {
     "data": {
      "text/plain": [
       "1"
      ]
     },
     "execution_count": null,
     "metadata": {},
     "output_type": "execute_result"
    }
   ],
   "source": [
    "r = Random()\n",
    "r.choice([1, 5, 10])"
   ]
  },
  {
   "cell_type": "markdown",
   "id": "095c5b10-937e-437c-9434-a47c8dc0f418",
   "metadata": {},
   "source": [
    "We can also produce an exception in this method:"
   ]
  },
  {
   "cell_type": "code",
   "execution_count": null,
   "id": "85c9446e-b56e-4f94-8990-83f0bbcb66c1",
   "metadata": {},
   "outputs": [
    {
     "name": "stdout",
     "output_type": "stream",
     "text": [
      "catched!\n",
      "Cannot choose from an empty sequence  was raised.\n"
     ]
    },
    {
     "ename": "IndexError",
     "evalue": "Cannot choose from an empty sequence",
     "output_type": "error",
     "traceback": [
      "\u001b[0;31m---------------------------------------------------------------------------\u001b[0m",
      "\u001b[0;31mIndexError\u001b[0m                                Traceback (most recent call last)",
      "Cell \u001b[0;32mIn[10], line 2\u001b[0m\n\u001b[1;32m      1\u001b[0m \u001b[38;5;66;03m#| eval: false\u001b[39;00m\n\u001b[0;32m----> 2\u001b[0m \u001b[43mr\u001b[49m\u001b[38;5;241;43m.\u001b[39;49m\u001b[43mchoice\u001b[49m\u001b[43m(\u001b[49m\u001b[43m[\u001b[49m\u001b[43m]\u001b[49m\u001b[43m)\u001b[49m\n",
      "File \u001b[0;32m~/aspectify/aspectify/aop.py:49\u001b[0m, in \u001b[0;36madvice.<locals>.dec.<locals>.inner\u001b[0;34m(*args, **kwargs)\u001b[0m\n\u001b[1;32m     47\u001b[0m \u001b[38;5;28;01mexcept\u001b[39;00m \u001b[38;5;167;01mException\u001b[39;00m \u001b[38;5;28;01mas\u001b[39;00m e:\n\u001b[1;32m     48\u001b[0m     \u001b[38;5;28;01mif\u001b[39;00m moment \u001b[38;5;129;01min\u001b[39;00m [\u001b[38;5;124m\"\u001b[39m\u001b[38;5;124mafter_throwing\u001b[39m\u001b[38;5;124m\"\u001b[39m, \u001b[38;5;124m\"\u001b[39m\u001b[38;5;124mafter\u001b[39m\u001b[38;5;124m\"\u001b[39m]: todo(e, \u001b[38;5;241m*\u001b[39mtodo_args, \u001b[38;5;241m*\u001b[39m\u001b[38;5;241m*\u001b[39mkwargs)\n\u001b[0;32m---> 49\u001b[0m     \u001b[38;5;28;01mraise\u001b[39;00m e\n",
      "File \u001b[0;32m~/aspectify/aspectify/aop.py:43\u001b[0m, in \u001b[0;36madvice.<locals>.dec.<locals>.inner\u001b[0;34m(*args, **kwargs)\u001b[0m\n\u001b[1;32m     41\u001b[0m \u001b[38;5;28;01mtry\u001b[39;00m:\n\u001b[1;32m     42\u001b[0m     \u001b[38;5;28;01mif\u001b[39;00m moment \u001b[38;5;241m==\u001b[39m \u001b[38;5;124m\"\u001b[39m\u001b[38;5;124mbefore\u001b[39m\u001b[38;5;124m\"\u001b[39m: todo(\u001b[38;5;241m*\u001b[39mtodo_args, \u001b[38;5;241m*\u001b[39m\u001b[38;5;241m*\u001b[39mkwargs) \u001b[38;5;66;03m# returned value is lost\u001b[39;00m\n\u001b[0;32m---> 43\u001b[0m     result \u001b[38;5;241m=\u001b[39m todo(\u001b[38;5;241m*\u001b[39mtodo_args, \u001b[38;5;241m*\u001b[39m\u001b[38;5;241m*\u001b[39mkwargs) \u001b[38;5;28;01mif\u001b[39;00m moment \u001b[38;5;241m==\u001b[39m \u001b[38;5;124m\"\u001b[39m\u001b[38;5;124maround\u001b[39m\u001b[38;5;124m\"\u001b[39m \u001b[38;5;28;01melse\u001b[39;00m \u001b[43mmethod\u001b[49m\u001b[43m(\u001b[49m\u001b[38;5;241;43m*\u001b[39;49m\u001b[43margs\u001b[49m\u001b[43m,\u001b[49m\u001b[43m \u001b[49m\u001b[38;5;241;43m*\u001b[39;49m\u001b[38;5;241;43m*\u001b[39;49m\u001b[43mkwargs\u001b[49m\u001b[43m)\u001b[49m\n\u001b[1;32m     44\u001b[0m     \u001b[38;5;28;01mif\u001b[39;00m moment \u001b[38;5;129;01min\u001b[39;00m [\u001b[38;5;124m\"\u001b[39m\u001b[38;5;124mafter_returning\u001b[39m\u001b[38;5;124m\"\u001b[39m, \u001b[38;5;124m\"\u001b[39m\u001b[38;5;124mafter\u001b[39m\u001b[38;5;124m\"\u001b[39m]: todo(\u001b[38;5;241m*\u001b[39mtodo_args, \u001b[38;5;241m*\u001b[39m\u001b[38;5;241m*\u001b[39mkwargs)\n\u001b[1;32m     45\u001b[0m     \u001b[38;5;28;01mreturn\u001b[39;00m result\n",
      "File \u001b[0;32m~/aspectify/aspectify/aop.py:49\u001b[0m, in \u001b[0;36madvice.<locals>.dec.<locals>.inner\u001b[0;34m(*args, **kwargs)\u001b[0m\n\u001b[1;32m     47\u001b[0m \u001b[38;5;28;01mexcept\u001b[39;00m \u001b[38;5;167;01mException\u001b[39;00m \u001b[38;5;28;01mas\u001b[39;00m e:\n\u001b[1;32m     48\u001b[0m     \u001b[38;5;28;01mif\u001b[39;00m moment \u001b[38;5;129;01min\u001b[39;00m [\u001b[38;5;124m\"\u001b[39m\u001b[38;5;124mafter_throwing\u001b[39m\u001b[38;5;124m\"\u001b[39m, \u001b[38;5;124m\"\u001b[39m\u001b[38;5;124mafter\u001b[39m\u001b[38;5;124m\"\u001b[39m]: todo(e, \u001b[38;5;241m*\u001b[39mtodo_args, \u001b[38;5;241m*\u001b[39m\u001b[38;5;241m*\u001b[39mkwargs)\n\u001b[0;32m---> 49\u001b[0m     \u001b[38;5;28;01mraise\u001b[39;00m e\n",
      "File \u001b[0;32m~/aspectify/aspectify/aop.py:43\u001b[0m, in \u001b[0;36madvice.<locals>.dec.<locals>.inner\u001b[0;34m(*args, **kwargs)\u001b[0m\n\u001b[1;32m     41\u001b[0m \u001b[38;5;28;01mtry\u001b[39;00m:\n\u001b[1;32m     42\u001b[0m     \u001b[38;5;28;01mif\u001b[39;00m moment \u001b[38;5;241m==\u001b[39m \u001b[38;5;124m\"\u001b[39m\u001b[38;5;124mbefore\u001b[39m\u001b[38;5;124m\"\u001b[39m: todo(\u001b[38;5;241m*\u001b[39mtodo_args, \u001b[38;5;241m*\u001b[39m\u001b[38;5;241m*\u001b[39mkwargs) \u001b[38;5;66;03m# returned value is lost\u001b[39;00m\n\u001b[0;32m---> 43\u001b[0m     result \u001b[38;5;241m=\u001b[39m todo(\u001b[38;5;241m*\u001b[39mtodo_args, \u001b[38;5;241m*\u001b[39m\u001b[38;5;241m*\u001b[39mkwargs) \u001b[38;5;28;01mif\u001b[39;00m moment \u001b[38;5;241m==\u001b[39m \u001b[38;5;124m\"\u001b[39m\u001b[38;5;124maround\u001b[39m\u001b[38;5;124m\"\u001b[39m \u001b[38;5;28;01melse\u001b[39;00m \u001b[43mmethod\u001b[49m\u001b[43m(\u001b[49m\u001b[38;5;241;43m*\u001b[39;49m\u001b[43margs\u001b[49m\u001b[43m,\u001b[49m\u001b[43m \u001b[49m\u001b[38;5;241;43m*\u001b[39;49m\u001b[38;5;241;43m*\u001b[39;49m\u001b[43mkwargs\u001b[49m\u001b[43m)\u001b[49m\n\u001b[1;32m     44\u001b[0m     \u001b[38;5;28;01mif\u001b[39;00m moment \u001b[38;5;129;01min\u001b[39;00m [\u001b[38;5;124m\"\u001b[39m\u001b[38;5;124mafter_returning\u001b[39m\u001b[38;5;124m\"\u001b[39m, \u001b[38;5;124m\"\u001b[39m\u001b[38;5;124mafter\u001b[39m\u001b[38;5;124m\"\u001b[39m]: todo(\u001b[38;5;241m*\u001b[39mtodo_args, \u001b[38;5;241m*\u001b[39m\u001b[38;5;241m*\u001b[39mkwargs)\n\u001b[1;32m     45\u001b[0m     \u001b[38;5;28;01mreturn\u001b[39;00m result\n",
      "File \u001b[0;32m/grupoa/config/miniconda3/lib/python3.8/random.py:290\u001b[0m, in \u001b[0;36mRandom.choice\u001b[0;34m(self, seq)\u001b[0m\n\u001b[1;32m    288\u001b[0m     i \u001b[38;5;241m=\u001b[39m \u001b[38;5;28mself\u001b[39m\u001b[38;5;241m.\u001b[39m_randbelow(\u001b[38;5;28mlen\u001b[39m(seq))\n\u001b[1;32m    289\u001b[0m \u001b[38;5;28;01mexcept\u001b[39;00m \u001b[38;5;167;01mValueError\u001b[39;00m:\n\u001b[0;32m--> 290\u001b[0m     \u001b[38;5;28;01mraise\u001b[39;00m \u001b[38;5;167;01mIndexError\u001b[39;00m(\u001b[38;5;124m'\u001b[39m\u001b[38;5;124mCannot choose from an empty sequence\u001b[39m\u001b[38;5;124m'\u001b[39m) \u001b[38;5;28;01mfrom\u001b[39;00m \u001b[38;5;28;01mNone\u001b[39;00m\n\u001b[1;32m    291\u001b[0m \u001b[38;5;28;01mreturn\u001b[39;00m seq[i]\n",
      "\u001b[0;31mIndexError\u001b[0m: Cannot choose from an empty sequence"
     ]
    }
   ],
   "source": [
    "#| eval: false\n",
    "r.choice([])"
   ]
  },
  {
   "cell_type": "markdown",
   "id": "6a20dc51-29eb-4b68-9f92-1812a37139d4",
   "metadata": {},
   "source": [
    "`choice` cannot take an empty `Iterable`. As you can see, we obtain the \"catched!\" message (`before`) and then we obtain the \"`e` was raised\" message.\n",
    "\n",
    "Since the exception is raised anyway, the messages are at the top of the cell output, which can be a little weird for us programmers."
   ]
  },
  {
   "cell_type": "markdown",
   "id": "794e2fd2-38cc-4f2e-806f-28a99e017e4d",
   "metadata": {},
   "source": [
    "## `PointCut`'s cannot be deactivated"
   ]
  },
  {
   "cell_type": "markdown",
   "id": "429ec5db-fb5c-4daf-9fda-23bdac2e3ee3",
   "metadata": {},
   "source": [
    "We have noted this before: applying a `PointCut` is not a reversible action, as the method behaviour is dynamically modified.\n",
    "\n",
    "However, we can apply several `PointCut`s to the same \"catched\" method (even in the same moment, using distinct `Aspect`s or in a sequential declaration).\n",
    "\n",
    "Let us define the following method. We could use a `lambda` expresion, but this is to notice that we can also use named functions."
   ]
  },
  {
   "cell_type": "code",
   "execution_count": null,
   "id": "62410667-4326-4b41-b6e2-25359ec6db65",
   "metadata": {},
   "outputs": [],
   "source": [
    "def magnifying_glass(*args, **kwargs): # remember, we get as input the *a and the **k parameters\n",
    "    print(\"Input parameters: \",  args)"
   ]
  },
  {
   "cell_type": "markdown",
   "id": "264fdfe8-ac7a-419f-9174-71169a361e1a",
   "metadata": {},
   "source": [
    "Now, we can modify the `before` moment, adding this new method. Then, we create the `PointCut`."
   ]
  },
  {
   "cell_type": "code",
   "execution_count": null,
   "id": "1a13b3a9-9d34-48bc-b4a7-bec28433ea3c",
   "metadata": {},
   "outputs": [
    {
     "name": "stdout",
     "output_type": "stream",
     "text": [
      "Captured method: random.Random.choice\n",
      "Captured method: random.Random.choices\n"
     ]
    }
   ],
   "source": [
    "test_aspect.set_before(magnifying_glass)\n",
    "\n",
    "test_aspect.create_pointcut(get_classes(), \".*\\.Random\\.c.*\")"
   ]
  },
  {
   "cell_type": "markdown",
   "id": "37e8794a-b9d4-4c93-97f1-2605e05d668f",
   "metadata": {},
   "source": [
    "We have captured the same two methods. However, those methods had already been modified, so they have two new behaviours:\n",
    "- `print` \"catched!\", and\n",
    "- `print` the input parameters.\n",
    "\n",
    "It is important to note that, in Python, AOP is defined as a LIFO chain: the first defined `Aspect`s are the last to be executed (because the new ones wrap the old ones)."
   ]
  },
  {
   "cell_type": "code",
   "execution_count": null,
   "id": "b5e418ab-79e1-462d-bf79-d58597701ddd",
   "metadata": {},
   "outputs": [
    {
     "name": "stdout",
     "output_type": "stream",
     "text": [
      "Input parameters:  ([1, 5, 10],)\n",
      "catched!\n"
     ]
    },
    {
     "data": {
      "text/plain": [
       "5"
      ]
     },
     "execution_count": null,
     "metadata": {},
     "output_type": "execute_result"
    }
   ],
   "source": [
    "r.choice([1, 5, 10])"
   ]
  },
  {
   "cell_type": "markdown",
   "id": "e016890f-e962-4d2e-88c0-ab7a6ea26b91",
   "metadata": {},
   "source": [
    "## Conclusion"
   ]
  },
  {
   "cell_type": "markdown",
   "id": "ff060422-b414-495f-91ca-d05bc163a81e",
   "metadata": {},
   "source": [
    "During this example we have explained how to define the methods (or `lambda`s) used to define `advice`s: they need the `*a` and the `**k` input parameters. Using the `after_throwing` moment, we will need the `e` parameter too (the raised exception).\n",
    "\n",
    "We have also noted something important: `PointCut`s cannot be deactivated and, if we define several of them, they will be applied in a LIFO chain."
   ]
  },
  {
   "cell_type": "code",
   "execution_count": null,
   "id": "7a3bce4a-0cea-4486-8d49-139355be71f6",
   "metadata": {},
   "outputs": [],
   "source": [
    "#| hide\n",
    "import nbdev; nbdev.nbdev_export()"
   ]
  }
 ],
 "metadata": {
  "kernelspec": {
   "display_name": "aspectify",
   "language": "python",
   "name": "aspectify"
  }
 },
 "nbformat": 4,
 "nbformat_minor": 5
}
