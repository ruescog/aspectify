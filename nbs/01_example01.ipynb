{
 "cells": [
  {
   "cell_type": "code",
   "execution_count": 1,
   "id": "d5f9e1c6-e4b0-4f8f-9a46-d9b39f199aad",
   "metadata": {},
   "outputs": [],
   "source": [
    "#| default_exp examples"
   ]
  },
  {
   "cell_type": "code",
   "execution_count": 2,
   "id": "81c6da71-bb60-49c6-b683-b128ff3db989",
   "metadata": {},
   "outputs": [],
   "source": [
    "#| hide\n",
    "from nbdev.showdoc import *"
   ]
  },
  {
   "cell_type": "markdown",
   "id": "3187cfa0-b60e-4c40-80b9-a07c8e555f16",
   "metadata": {},
   "source": [
    "# First example. Logging."
   ]
  },
  {
   "cell_type": "markdown",
   "id": "8f0e2f3e-da64-4536-b9b5-93a30ffbbf6a",
   "metadata": {},
   "source": [
    "At this moment, we want to modify the `randint` method to log a message.\n",
    "\n",
    "> **ADVICE**:\n",
    "Trying to be as clean as possible, we strongly recomend you to create a **new** `aspects.py` file and add the `Aspect`s to this file."
   ]
  },
  {
   "cell_type": "markdown",
   "id": "2a1cb6ea-e6fc-4e91-b045-ad6dff826c7c",
   "metadata": {},
   "source": [
    "## Library import"
   ]
  },
  {
   "cell_type": "markdown",
   "id": "4d2f3038-2675-49e4-afd7-5de29091f60d",
   "metadata": {},
   "source": [
    "First of all, we need to import to the `Aspect`s file (`aspects.py` from now on) the libraries and modules that will be used. In this case, `random`."
   ]
  },
  {
   "cell_type": "code",
   "execution_count": 3,
   "id": "ac41d8d0-7a35-4468-a608-efee0fd57af5",
   "metadata": {},
   "outputs": [],
   "source": [
    "#| export\n",
    "from aspectify.aop import Aspect\n",
    "from random import Random"
   ]
  },
  {
   "cell_type": "markdown",
   "id": "0f65209a-2d6b-42d0-bb6d-ba06aae96bb6",
   "metadata": {},
   "source": [
    "Additionally, we need to define the `get_classes` method. This method is always needed in order to get all the available classes to add `Advice`s."
   ]
  },
  {
   "cell_type": "code",
   "execution_count": 4,
   "id": "d979e0a0-57e6-4070-a793-4f721dae66ac",
   "metadata": {},
   "outputs": [],
   "source": [
    "def get_classes():\n",
    "    return [element for element in list(globals().items())]"
   ]
  },
  {
   "cell_type": "markdown",
   "id": "7a74bc24-610f-4ae4-85db-2f96cd44cb07",
   "metadata": {},
   "source": [
    "## Aspect definition"
   ]
  },
  {
   "cell_type": "markdown",
   "id": "978a3b7e-593a-453e-acce-b34f525751d9",
   "metadata": {},
   "source": [
    "As a first AOP example, we can define our first `Aspect`. We call it `log_aspect`, and it will send a message when the function is being called.\n",
    "\n",
    "To do so, we add the `before` `advice` defined below. Here you can use defined functions or `lambda`."
   ]
  },
  {
   "cell_type": "code",
   "execution_count": 5,
   "id": "23365cf7-99af-4bc9-9ab0-9c8b41561bf9",
   "metadata": {},
   "outputs": [],
   "source": [
    "log_aspect = Aspect()\n",
    "log_aspect.set_before(lambda *a, **k: print(\"catched!\"))"
   ]
  },
  {
   "cell_type": "markdown",
   "id": "83e92140-251f-4db1-bae6-5a7aa8b98221",
   "metadata": {},
   "source": [
    "Now, we create an `Advice` to define which methods will show this message. The methods are named as follows:\n",
    "\n",
    "```sh\n",
    "module.Class.method_name\n",
    "```\n",
    "\n",
    "So, as we want to only change the `random`.`Random`.`randint` method, we use its fullname.\n",
    "\n",
    "> **NOTE**: if we wanted to select several methods at once, we could have used a regular expression. For example, `.*\\.Random\\..*` will catch all the methods within a `Random` class, regardless of their modules."
   ]
  },
  {
   "cell_type": "code",
   "execution_count": 6,
   "id": "941cbd53-185b-4933-9d31-41c91e2e47c9",
   "metadata": {},
   "outputs": [
    {
     "name": "stdout",
     "output_type": "stream",
     "text": [
      "Captured method: random.Random.randint\n"
     ]
    }
   ],
   "source": [
    "log_aspect.create_pointcut(get_classes(), \"random.Random.randint\")"
   ]
  },
  {
   "cell_type": "markdown",
   "id": "865078c4-4e40-41ab-91ce-1bc5023e1aa0",
   "metadata": {},
   "source": [
    "`create_pointcut` method has a default parameter called `logging` set to `true` in order to show the captured methods. You can deactivate it if you wish.\n",
    "\n",
    "After the `PointCut` is created, every method catched (random.Random.randint) will be modified by the defined `PointCut`s.\n",
    "\n",
    "From now on, when `randint` is used, we will see the \"catched!\" message."
   ]
  },
  {
   "cell_type": "markdown",
   "id": "4e86840e-2377-4d24-86cd-62cd414bf459",
   "metadata": {},
   "source": [
    "## Results"
   ]
  },
  {
   "cell_type": "code",
   "execution_count": 7,
   "id": "204fa615-1838-42a6-8b1c-628215a0597f",
   "metadata": {},
   "outputs": [
    {
     "name": "stdout",
     "output_type": "stream",
     "text": [
      "catched!\n"
     ]
    },
    {
     "data": {
      "text/plain": [
       "5"
      ]
     },
     "execution_count": 7,
     "metadata": {},
     "output_type": "execute_result"
    }
   ],
   "source": [
    "r = Random()\n",
    "r.randint(1, 10)"
   ]
  },
  {
   "cell_type": "markdown",
   "id": "1604bb07-9d0f-40be-b514-6f738bc152c1",
   "metadata": {},
   "source": [
    "This simple example shows how to add logging functionality to the defined code, even when the code is a black box (a library not developed by the user that is using `Aspectify`).\n",
    "\n",
    "In the [next example](https://ruescog.github.io/aspectify/example02.html) we will explain why you should be strictly accurate using the `create_pointcut` patter syntax."
   ]
  },
  {
   "cell_type": "code",
   "execution_count": 8,
   "id": "73ab15d5-6e8d-4217-b4ae-812ef4eca7f4",
   "metadata": {},
   "outputs": [],
   "source": [
    "#| hide\n",
    "import nbdev; nbdev.nbdev_export()"
   ]
  }
 ],
 "metadata": {
  "kernelspec": {
   "display_name": "aspectify",
   "language": "python",
   "name": "aspectify"
  },
  "language_info": {
   "codemirror_mode": {
    "name": "ipython",
    "version": 3
   },
   "file_extension": ".py",
   "mimetype": "text/x-python",
   "name": "python",
   "nbconvert_exporter": "python",
   "pygments_lexer": "ipython3",
   "version": "3.8.13"
  }
 },
 "nbformat": 4,
 "nbformat_minor": 5
}
