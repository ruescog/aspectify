{
 "cells": [
  {
   "cell_type": "code",
   "execution_count": null,
   "metadata": {},
   "outputs": [],
   "source": [
    "#| hide\n",
    "from aspectify.aop import *"
   ]
  },
  {
   "cell_type": "markdown",
   "metadata": {},
   "source": [
    "# aspectify\n",
    "\n",
    "> 'Apply Aspect Oriented Programming to your Python code'"
   ]
  },
  {
   "cell_type": "markdown",
   "metadata": {},
   "source": [
    "Aspect Oriented Programming is a programming paradigm that allows the user to separate some cross-cutting content from the main code, such as the logging or a database connection.\n",
    "\n",
    "As it may be known, other programming languages has some functionallity (implemented or plugged in) to use this paradigm as an additional abstract layer to the core application. AspectJ (used in Java), can sound familiar to the reader.\n",
    "\n",
    "In order to bring this amazing and powerful functionality to Python (which, in addition, will allow us to add it dynamically instead of using a weaver --as it is done in Java--), we have defined `Aspectify`, a Python library to manage AOP."
   ]
  },
  {
   "cell_type": "markdown",
   "metadata": {},
   "source": [
    "## Background concepts"
   ]
  },
  {
   "cell_type": "markdown",
   "metadata": {},
   "source": [
    "Before introducing the library, it is important to define some concepts used in AOP. Those are:\n",
    "- `Aspect` (_what_): a cross-cutting concept. In fact, an `Aspect` will group some functionalies. These, which will modify the natural behaviour of a method, are called `Advice`s.\n",
    "- `PointCut` (_when_): the time at which the new behaviuor must occur. Originally, only three points in time were defined (`before`, `around` and `after`), but nowadays new points in time are defined, such as \"after throwing an exception\".\n",
    "- `Advice` (_what to do_): as mentioned above, the code fragment to execute when the `PointCut` occurs."
   ]
  },
  {
   "cell_type": "markdown",
   "metadata": {},
   "source": [
    "## Installation"
   ]
  },
  {
   "cell_type": "markdown",
   "metadata": {},
   "source": [
    "In order to install the library, it is only needed to execute the pypi comand that follows:\n",
    "\n",
    "```sh\n",
    "pip install aspectify\n",
    "```\n",
    "\n",
    "> **ADVICE**:\n",
    "You should use a virtual environment to install the packages associated with your proyect."
   ]
  },
  {
   "cell_type": "markdown",
   "metadata": {},
   "source": [
    "## How to use Aspectify"
   ]
  },
  {
   "cell_type": "markdown",
   "metadata": {},
   "source": [
    "Once the background is defined and the library installed, we can start to create the AOP layer to our projects."
   ]
  },
  {
   "cell_type": "markdown",
   "metadata": {},
   "source": [
    "### The core project"
   ]
  },
  {
   "cell_type": "markdown",
   "metadata": {},
   "source": [
    "In order to use the library, we need a project. For example, here is a `Calculator` program, that will apply the basic operators to two values entered by keyboard."
   ]
  },
  {
   "cell_type": "code",
   "execution_count": null,
   "metadata": {},
   "outputs": [],
   "source": [
    "class Calculator():\n",
    "    def __init__(self, a, b):\n",
    "        self.a = a\n",
    "        self.b = b\n",
    "    \n",
    "    def add(self):\n",
    "        return self.a + self.b\n",
    "\n",
    "    def subtract(self):\n",
    "        return self.a - self.b\n",
    "\n",
    "    def multiply(self):\n",
    "        return self.a * self.b\n",
    "\n",
    "    def divide(self):\n",
    "        return self.a / self.b"
   ]
  },
  {
   "cell_type": "markdown",
   "metadata": {},
   "source": [
    "Now, we can use it to operate some integers."
   ]
  },
  {
   "cell_type": "code",
   "execution_count": null,
   "metadata": {},
   "outputs": [
    {
     "name": "stdout",
     "output_type": "stream",
     "text": [
      "30\n"
     ]
    }
   ],
   "source": [
    "a = 10\n",
    "b = 20\n",
    "operator = \"+\"\n",
    "calculator = Calculator(a, b)\n",
    "\n",
    "if operator == \"+\":\n",
    "    print(calculator.add())\n",
    "elif operator == \"-\":\n",
    "    print(calculator.subtract())\n",
    "elif operator == \"*\":\n",
    "    print(calculator.multiply())\n",
    "elif operator == \"/\":\n",
    "    print(calculator.divide())"
   ]
  },
  {
   "cell_type": "markdown",
   "metadata": {},
   "source": [
    "A bit rudimentary, but it works.\n",
    "\n",
    "Now, let us suppose that this `Calculator` program is a library. In addition, let us suppose that we did not write it, and we did not have the access to they parts: we just know that a `Calculator` class exists and it has four methods: `add`, `subtract`, `multiply` and `divide`."
   ]
  },
  {
   "cell_type": "markdown",
   "metadata": {},
   "source": [
    "### AOP: definition"
   ]
  },
  {
   "cell_type": "markdown",
   "metadata": {},
   "source": [
    "At this moment, we want to modify, let us say, the `add` method behaviour to add the following message: \"Adding some numbers\". We can use the library to create an `Aspect`.\n",
    "\n",
    "> ADVICE:\n",
    "Trying to be as clean as possible, we strongly recomend you to create a **new** `.py` file and add the `Aspect`s to this file.\n",
    "\n",
    "First of all, we need to import to the `Aspect`s file (`aspects.py` from now on) the libraries and modules that will be used. In this case, the `Calculator`."
   ]
  },
  {
   "cell_type": "code",
   "execution_count": null,
   "metadata": {},
   "outputs": [],
   "source": [
    "# aspects.py file\n",
    "\n",
    "# import Calculator\n",
    "from aspectify.aop import Aspect, is_detectable"
   ]
  },
  {
   "cell_type": "markdown",
   "metadata": {},
   "source": [
    "First of all, we need to define a method to gather all the classes loaded in the `aspects.py` file, in order to modify their behaviour dynamically. This method will be always be the same:"
   ]
  },
  {
   "cell_type": "code",
   "execution_count": null,
   "metadata": {},
   "outputs": [],
   "source": [
    "def get_classes():\n",
    "    return [element for element in list(globals().items()) if is_detectable(*element)]"
   ]
  },
  {
   "cell_type": "markdown",
   "metadata": {},
   "source": [
    "At this point, we can define our first `Aspect`. We will call it \"add-message\", and it will show a message `before` the addition is done."
   ]
  },
  {
   "cell_type": "code",
   "execution_count": null,
   "metadata": {},
   "outputs": [],
   "source": [
    "add_message_aspect = Aspect(\"add-message\")\n",
    "add_message_aspect.set_before(lambda: print(\"Adding some numbers\"))"
   ]
  },
  {
   "cell_type": "markdown",
   "metadata": {},
   "source": [
    "Finally, we will create a `PointCut` that will define which methods will show this message. We will use the regular expression `.*add`."
   ]
  },
  {
   "cell_type": "code",
   "execution_count": null,
   "metadata": {},
   "outputs": [
    {
     "ename": "AttributeError",
     "evalue": "'ZMQExitAutocall' object has no attribute '__name__'",
     "output_type": "error",
     "traceback": [
      "\u001b[0;31m---------------------------------------------------------------------------\u001b[0m",
      "\u001b[0;31mAttributeError\u001b[0m                            Traceback (most recent call last)",
      "Cell \u001b[0;32mIn[7], line 1\u001b[0m\n\u001b[0;32m----> 1\u001b[0m \u001b[43madd_message_aspect\u001b[49m\u001b[38;5;241;43m.\u001b[39;49m\u001b[43mcreate_pointcut\u001b[49m\u001b[43m(\u001b[49m\u001b[43mget_classes\u001b[49m\u001b[43m(\u001b[49m\u001b[43m)\u001b[49m\u001b[43m,\u001b[49m\u001b[43m \u001b[49m\u001b[38;5;124;43m\"\u001b[39;49m\u001b[38;5;124;43m.*add\u001b[39;49m\u001b[38;5;124;43m\"\u001b[39;49m\u001b[43m)\u001b[49m\n",
      "File \u001b[0;32m~/aspectify/aspectify/aop.py:105\u001b[0m, in \u001b[0;36mAspect.create_pointcut\u001b[0;34m(self, classes, pattern)\u001b[0m\n\u001b[1;32m    103\u001b[0m \u001b[38;5;28;01mfor\u001b[39;00m name, _class \u001b[38;5;129;01min\u001b[39;00m classes:\n\u001b[1;32m    104\u001b[0m     \u001b[38;5;28;01mfor\u001b[39;00m method_name \u001b[38;5;129;01min\u001b[39;00m \u001b[38;5;28mdir\u001b[39m(_class):\n\u001b[0;32m--> 105\u001b[0m         full_method_name \u001b[38;5;241m=\u001b[39m _class\u001b[38;5;241m.\u001b[39m\u001b[38;5;18m__module__\u001b[39m \u001b[38;5;241m+\u001b[39m \u001b[38;5;124m\"\u001b[39m\u001b[38;5;124m.\u001b[39m\u001b[38;5;124m\"\u001b[39m \u001b[38;5;241m+\u001b[39m \u001b[43m_class\u001b[49m\u001b[38;5;241;43m.\u001b[39;49m\u001b[38;5;18;43m__name__\u001b[39;49m \u001b[38;5;241m+\u001b[39m \u001b[38;5;124m\"\u001b[39m\u001b[38;5;124m.\u001b[39m\u001b[38;5;124m\"\u001b[39m \u001b[38;5;241m+\u001b[39m method_name\n\u001b[1;32m    106\u001b[0m         \u001b[38;5;28;01mif\u001b[39;00m is_detectable(full_method_name, \u001b[38;5;28;01mNone\u001b[39;00m) \u001b[38;5;129;01mand\u001b[39;00m pattern\u001b[38;5;241m.\u001b[39mfullmatch(full_method_name):\n\u001b[1;32m    107\u001b[0m             \u001b[38;5;66;03m# gets the method\u001b[39;00m\n\u001b[1;32m    108\u001b[0m             method \u001b[38;5;241m=\u001b[39m \u001b[38;5;28mgetattr\u001b[39m(_class, method_name)\n",
      "\u001b[0;31mAttributeError\u001b[0m: 'ZMQExitAutocall' object has no attribute '__name__'"
     ]
    }
   ],
   "source": [
    "add_message_aspect.create_pointcut(get_classes(), \".*add\")"
   ]
  }
 ],
 "metadata": {
  "kernelspec": {
   "display_name": "aspectify",
   "language": "python",
   "name": "aspectify"
  }
 },
 "nbformat": 4,
 "nbformat_minor": 4
}
