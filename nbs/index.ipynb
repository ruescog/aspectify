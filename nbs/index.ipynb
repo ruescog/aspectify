{
 "cells": [
  {
   "cell_type": "code",
   "execution_count": null,
   "metadata": {},
   "outputs": [],
   "source": [
    "#| hide\n",
    "from aspectify.aop import *"
   ]
  },
  {
   "cell_type": "markdown",
   "metadata": {},
   "source": [
    "# aspectify\n",
    "\n",
    "> 'Apply Aspect Oriented Programming to your Python code'"
   ]
  },
  {
   "cell_type": "markdown",
   "metadata": {},
   "source": [
    "Aspect Oriented Programming is a programming paradigm that allows the user to separate some cross-cutting content from the main code, such as the logging or a database connection.\n",
    "\n",
    "As it may be known, other programming languages has some functionallity (implemented or plugged in) to use this paradigm as an additional abstract layer to the core application. [AspectJ](https://www.eclipse.org/aspectj/) (used in Java), can sound familiar to the reader.\n",
    "\n",
    "In order to bring this amazing and powerful functionality to Python (which, in addition, will allow us to add it dynamically instead of using a weaver --as it is done in Java--), we have defined `Aspectify`, a Python library to manage AOP."
   ]
  },
  {
   "cell_type": "markdown",
   "metadata": {},
   "source": [
    "## Background concepts"
   ]
  },
  {
   "cell_type": "markdown",
   "metadata": {},
   "source": [
    "Before introducing the library, it is important to define some concepts used in AOP. Those are:\n",
    "- `Aspect` (_what_): a cross-cutting concept. In fact, an `Aspect` will group some functionalies. These, which will modify the natural behaviour of a method, are called `Advice`s.\n",
    "- `PointCut` (_when_): a fragment of code where the `Aspect` is defined. Can be multiple `PointCut`s for each `Aspect` (indeed, it will).\n",
    "- `Advice` (_when and what to do_): The code fragment to execute when the `PointCut` occurs and the moment when the new behaviuor must occur. Originally, only three moments were defined (`before`, `around` --instead of-- and `after`), but nowadays new moments are defined, such as \"after throwing an exception\" (`after_throwing`) or \"after NOT throwing an exception\" (`after_returning`)."
   ]
  },
  {
   "cell_type": "markdown",
   "metadata": {},
   "source": [
    "## Installation"
   ]
  },
  {
   "cell_type": "markdown",
   "metadata": {},
   "source": [
    "In order to install the library, it is only needed to execute the pypi comand that follows:\n",
    "\n",
    "```sh\n",
    "pip install aspectify\n",
    "```\n",
    "\n",
    "> **ADVICE**:\n",
    "You should use a virtual environment to install the packages associated with your proyect."
   ]
  },
  {
   "cell_type": "markdown",
   "metadata": {},
   "source": [
    "## How to use Aspectify"
   ]
  },
  {
   "cell_type": "markdown",
   "metadata": {},
   "source": [
    "Once the background is defined and the library is installed, we can start to create the AOP layer to our projects."
   ]
  },
  {
   "cell_type": "markdown",
   "metadata": {},
   "source": [
    "### The core project"
   ]
  },
  {
   "cell_type": "markdown",
   "metadata": {},
   "source": [
    "In order to use the library, we need a project. For example, we will use the `random` library for Python."
   ]
  },
  {
   "cell_type": "code",
   "execution_count": null,
   "metadata": {},
   "outputs": [],
   "source": [
    "from random import Random"
   ]
  },
  {
   "cell_type": "markdown",
   "metadata": {},
   "source": [
    "Now, we can use it to generate some integers."
   ]
  },
  {
   "cell_type": "code",
   "execution_count": null,
   "metadata": {},
   "outputs": [
    {
     "data": {
      "text/plain": [
       "9"
      ]
     },
     "execution_count": null,
     "metadata": {},
     "output_type": "execute_result"
    }
   ],
   "source": [
    "r = Random()\n",
    "r.randint(5, 10)"
   ]
  },
  {
   "cell_type": "markdown",
   "metadata": {},
   "source": [
    "As you can see in its documentation, `randint` (called with parameters `a` and `b`) can generate the `b` value itself (it is a closed range \\[5, 10\\]).\n",
    "\n",
    "If we want to change this behaviour to the normal random functions behaviour (the range is closed-opened \\[5, 10)), you will need to redefine it. Furthermore, if other functions or library use this method, they will not use yours.\n",
    "\n",
    "How can we solve it? Using AOP.\n",
    "\n",
    "During this introduction, we have seen the background concepts and how to install the `Aspectify` library. In the next section we will explain how to use it with a simple example."
   ]
  }
 ],
 "metadata": {
  "kernelspec": {
   "display_name": "aspectify",
   "language": "python",
   "name": "aspectify"
  }
 },
 "nbformat": 4,
 "nbformat_minor": 4
}
