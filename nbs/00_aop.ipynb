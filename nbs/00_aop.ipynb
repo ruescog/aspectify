{
 "cells": [
  {
   "cell_type": "markdown",
   "metadata": {},
   "source": [
    "# aop\n",
    "\n",
    "> Apply Aspect Oriented Programming to your Python code"
   ]
  },
  {
   "cell_type": "code",
   "execution_count": null,
   "metadata": {},
   "outputs": [],
   "source": [
    "#| default_exp aop"
   ]
  },
  {
   "cell_type": "code",
   "execution_count": null,
   "metadata": {},
   "outputs": [],
   "source": [
    "#| hide\n",
    "from nbdev.showdoc import *"
   ]
  },
  {
   "cell_type": "code",
   "execution_count": null,
   "metadata": {},
   "outputs": [],
   "source": [
    "#| export\n",
    "import re\n",
    "import logging\n",
    "\n",
    "from functools import wraps"
   ]
  },
  {
   "cell_type": "code",
   "execution_count": null,
   "metadata": {},
   "outputs": [],
   "source": [
    "#| export\n",
    "def is_detectable(name, # The name of the object.\n",
    "                  obj # The builded object (potentially class).\n",
    "                 ):\n",
    "    \"\"\"\n",
    "    Determines when an object is potentially detectable to add an aspect to it.\n",
    "    \"\"\"\n",
    "    return (\n",
    "        name not in [\"get_ipython\", \"exit\", \"quit\", \"open\"]\n",
    "        and not isinstance(obj, Aspect)\n",
    "        and isinstance(obj, type) # it must be a type (a class)\n",
    "        and callable(obj)\n",
    "            )"
   ]
  },
  {
   "cell_type": "code",
   "execution_count": null,
   "metadata": {},
   "outputs": [],
   "source": [
    "#| export\n",
    "def advice(moment: str, # One of 'before', 'around', 'after_returning', 'after_throwing' or 'after'. See the documentation for more information.\n",
    "           todo: object, # What to do at the selected moment.\n",
    "           use_reference: bool = False # Whether to use or not the referenced object, used when the catched method is not a class method.\n",
    "          ):\n",
    "    \"\"\"\n",
    "    Add an advice to a particular function.\n",
    "    \"\"\"\n",
    "    def dec(method):\n",
    "        @wraps(method)\n",
    "        def inner(*args, **kwargs):\n",
    "            if moment not in [\"before\", \"around\", \"after_returning\", \"after_throwing\", \"after\"]:\n",
    "                raise Exception(f\"Moment {moment} is not defined.\")\n",
    "            \n",
    "            obj_ref = [args[0]]\n",
    "            todo_args = args if use_reference else args[1:]\n",
    "                \n",
    "            try:\n",
    "                if moment == \"before\":\n",
    "                    logging.info(\"Executed 'before' todo method\")\n",
    "                    new_args = todo(*todo_args, **kwargs)\n",
    "                    if new_args:\n",
    "                        logging.warning(f\"Args changed from {list(args)} to {obj_ref + new_args}\")\n",
    "                        args = obj_ref + new_args\n",
    "                        todo_args = new_args\n",
    "\n",
    "                 \n",
    "                if moment == \"around\":\n",
    "                    logging.info(\"Executed 'around' todo method\")\n",
    "                    result = todo(*todo_args, **kwargs) \n",
    "                else:\n",
    "                    result = method(*args, **kwargs)\n",
    "                \n",
    "                if moment in [\"after_returning\", \"after\"]:\n",
    "                    logging.info(\"Executed 'after_returning' or 'after' todo method\")\n",
    "                    todo(*todo_args, **kwargs)\n",
    "                    \n",
    "                return result\n",
    "\n",
    "            except Exception as e:\n",
    "                if moment in [\"after_throwing\", \"after\"]:\n",
    "                    logging.info(\"Executed 'after_throwing' or 'after' todo method\")\n",
    "                    todo(e, *todo_args, **kwargs)\n",
    "\n",
    "                raise e\n",
    "\n",
    "        return inner\n",
    "    return dec"
   ]
  },
  {
   "cell_type": "code",
   "execution_count": null,
   "metadata": {},
   "outputs": [],
   "source": [
    "#| export\n",
    "class Aspect():\n",
    "    \"\"\"\n",
    "    Defines a complete aspect.\n",
    "    \"\"\"\n",
    "    def __init__(self):\n",
    "        \"\"\"\n",
    "        Defines a new aspect.\n",
    "        \"\"\"\n",
    "        self.before = None\n",
    "        self.around = None\n",
    "        self.after_returning = None\n",
    "        self.after_throwing = None\n",
    "        self.after = None\n",
    "\n",
    "    # POINTCUT\n",
    "    def create_pointcut(self,\n",
    "                        objects, # All the classes to which the aspect can be added. See the documentation for more information.\n",
    "                        pattern, # The pattern (string that defines a regular expression) used to select the methods to be added the aspect.\n",
    "                        logging = True # Whether to log the captured methods with the `PointCut`.\n",
    "                       ):\n",
    "        \"\"\"\n",
    "        Creates a new pointcut associated with the aspect.\n",
    "        \"\"\"\n",
    "        pattern = re.compile(pattern)\n",
    "\n",
    "        for name, _object in objects:\n",
    "            if is_detectable(name, _object):\n",
    "                for method_name in dir(_object):\n",
    "                    if \"__\" in method_name: continue\n",
    "                    \n",
    "                    full_method_name = str(_object.__module__) + \".\" + str(_object.__qualname__) + \".\" + method_name\n",
    "                    if pattern.fullmatch(full_method_name):\n",
    "                        # logs the method if requested\n",
    "                        if logging: message = \"Captured method: \" + full_method_name\n",
    "                        \n",
    "                        # gets the method\n",
    "                        method = getattr(_object, method_name)\n",
    "\n",
    "                        # modifies it\n",
    "                        if self.around: method = advice(\"around\", self.around)(method) # we need to add the around modification first. If not, it will overwrite the other methods\n",
    "                        if self.before: method = advice(\"before\", self.before)(method)\n",
    "                        if self.after_returning: method = advice(\"after_returning\", self.after_returning)(method)\n",
    "                        if self.after_throwing: method = advice(\"after_throwing\", self.after_throwing)(method)\n",
    "                        if self.after: method = advice(\"after\", self.after)(method)\n",
    "\n",
    "                        # saves it\n",
    "                        try:\n",
    "                            setattr(_object, method_name, method)\n",
    "                        except AttributeError as e:\n",
    "                            if logging: message += \"; CANNOT be modified.\"\n",
    "                        \n",
    "                        if logging: print(message)\n",
    "\n",
    "    # ADVICES\n",
    "    def set_before(self,\n",
    "                   function # The 'to do' function in that moment.\n",
    "                  ):\n",
    "        \"\"\"\n",
    "        Determines what to do before the execution of the method.\n",
    "        \"\"\"\n",
    "        self.before = function\n",
    "    \n",
    "    def set_around(self,\n",
    "                   function # The 'to do' function in that moment.\n",
    "                  ):\n",
    "        \"\"\"\n",
    "        Determines what to do instead of the execution of the method.\n",
    "        \"\"\"\n",
    "        self.around = function\n",
    "    \n",
    "    def set_after_returning(self,\n",
    "                            function # The 'to do' function in that moment.\n",
    "                           ):\n",
    "        \"\"\"\n",
    "        Determines what to do after a complete execution of the method (when there are not exceptions).\n",
    "        \"\"\"\n",
    "        self.after_returning = function\n",
    "    \n",
    "    def set_after_throwing(self,\n",
    "                           function # The 'to do' function in that moment.\n",
    "                          ):\n",
    "        \"\"\"\n",
    "        Determines what to do when the execution of the method raises an exception.\n",
    "        \n",
    "        * BEWARE! This method will not handle the exception (it will be finally raised), but it will allow you to do something when the exception is raised.\n",
    "        \"\"\"\n",
    "        self.after_throwing = function\n",
    "\n",
    "    def set_after(self,\n",
    "                  function # The 'to do' function in that moment.\n",
    "                 ):\n",
    "        \"\"\"\n",
    "        Determines what to do after the execution of the method. This function will be always executed after the `after_returning` and `after_throwing` functions.\n",
    "        \"\"\"\n",
    "        self.after = function"
   ]
  },
  {
   "cell_type": "code",
   "execution_count": null,
   "metadata": {},
   "outputs": [
    {
     "data": {
      "text/markdown": [
       "---\n",
       "\n",
       "[source](https://github.com/ruescog/aspectify/blob/main/aspectify/aop.py#L68){target=\"_blank\" style=\"float:right; font-size:smaller\"}\n",
       "\n",
       "### Aspect.create_pointcut\n",
       "\n",
       ">      Aspect.create_pointcut (objects, pattern, logging=True)\n",
       "\n",
       "Creates a new pointcut associated with the aspect.\n",
       "\n",
       "|    | **Type** | **Default** | **Details** |\n",
       "| -- | -------- | ----------- | ----------- |\n",
       "| objects |  |  | All the classes to which the aspect can be added. See the documentation for more information. |\n",
       "| pattern |  |  | The pattern (string that defines a regular expression) used to select the methods to be added the aspect. |\n",
       "| logging | bool | True | Whether to log the captured methods with the `PointCut`. |"
      ],
      "text/plain": [
       "---\n",
       "\n",
       "[source](https://github.com/ruescog/aspectify/blob/main/aspectify/aop.py#L68){target=\"_blank\" style=\"float:right; font-size:smaller\"}\n",
       "\n",
       "### Aspect.create_pointcut\n",
       "\n",
       ">      Aspect.create_pointcut (objects, pattern, logging=True)\n",
       "\n",
       "Creates a new pointcut associated with the aspect.\n",
       "\n",
       "|    | **Type** | **Default** | **Details** |\n",
       "| -- | -------- | ----------- | ----------- |\n",
       "| objects |  |  | All the classes to which the aspect can be added. See the documentation for more information. |\n",
       "| pattern |  |  | The pattern (string that defines a regular expression) used to select the methods to be added the aspect. |\n",
       "| logging | bool | True | Whether to log the captured methods with the `PointCut`. |"
      ]
     },
     "execution_count": null,
     "metadata": {},
     "output_type": "execute_result"
    }
   ],
   "source": [
    "show_doc(Aspect.create_pointcut)"
   ]
  },
  {
   "cell_type": "code",
   "execution_count": null,
   "metadata": {},
   "outputs": [
    {
     "data": {
      "text/markdown": [
       "---\n",
       "\n",
       "[source](https://github.com/ruescog/aspectify/blob/main/aspectify/aop.py#L107){target=\"_blank\" style=\"float:right; font-size:smaller\"}\n",
       "\n",
       "### Aspect.set_before\n",
       "\n",
       ">      Aspect.set_before (function)\n",
       "\n",
       "Determines what to do before the execution of the method.\n",
       "\n",
       "|    | **Details** |\n",
       "| -- | ----------- |\n",
       "| function | The 'to do' function in that moment. |"
      ],
      "text/plain": [
       "---\n",
       "\n",
       "[source](https://github.com/ruescog/aspectify/blob/main/aspectify/aop.py#L107){target=\"_blank\" style=\"float:right; font-size:smaller\"}\n",
       "\n",
       "### Aspect.set_before\n",
       "\n",
       ">      Aspect.set_before (function)\n",
       "\n",
       "Determines what to do before the execution of the method.\n",
       "\n",
       "|    | **Details** |\n",
       "| -- | ----------- |\n",
       "| function | The 'to do' function in that moment. |"
      ]
     },
     "execution_count": null,
     "metadata": {},
     "output_type": "execute_result"
    }
   ],
   "source": [
    "show_doc(Aspect.set_before)"
   ]
  },
  {
   "cell_type": "code",
   "execution_count": null,
   "metadata": {},
   "outputs": [
    {
     "data": {
      "text/markdown": [
       "---\n",
       "\n",
       "[source](https://github.com/ruescog/aspectify/blob/main/aspectify/aop.py#L115){target=\"_blank\" style=\"float:right; font-size:smaller\"}\n",
       "\n",
       "### Aspect.set_around\n",
       "\n",
       ">      Aspect.set_around (function)\n",
       "\n",
       "Determines what to do instead of the execution of the method.\n",
       "\n",
       "|    | **Details** |\n",
       "| -- | ----------- |\n",
       "| function | The 'to do' function in that moment. |"
      ],
      "text/plain": [
       "---\n",
       "\n",
       "[source](https://github.com/ruescog/aspectify/blob/main/aspectify/aop.py#L115){target=\"_blank\" style=\"float:right; font-size:smaller\"}\n",
       "\n",
       "### Aspect.set_around\n",
       "\n",
       ">      Aspect.set_around (function)\n",
       "\n",
       "Determines what to do instead of the execution of the method.\n",
       "\n",
       "|    | **Details** |\n",
       "| -- | ----------- |\n",
       "| function | The 'to do' function in that moment. |"
      ]
     },
     "execution_count": null,
     "metadata": {},
     "output_type": "execute_result"
    }
   ],
   "source": [
    "show_doc(Aspect.set_around)"
   ]
  },
  {
   "cell_type": "code",
   "execution_count": null,
   "metadata": {},
   "outputs": [
    {
     "data": {
      "text/markdown": [
       "---\n",
       "\n",
       "[source](https://github.com/ruescog/aspectify/blob/main/aspectify/aop.py#L123){target=\"_blank\" style=\"float:right; font-size:smaller\"}\n",
       "\n",
       "### Aspect.set_after_returning\n",
       "\n",
       ">      Aspect.set_after_returning (function)\n",
       "\n",
       "Determines what to do after a complete execution of the method (when there are not exceptions).\n",
       "\n",
       "|    | **Details** |\n",
       "| -- | ----------- |\n",
       "| function | The 'to do' function in that moment. |"
      ],
      "text/plain": [
       "---\n",
       "\n",
       "[source](https://github.com/ruescog/aspectify/blob/main/aspectify/aop.py#L123){target=\"_blank\" style=\"float:right; font-size:smaller\"}\n",
       "\n",
       "### Aspect.set_after_returning\n",
       "\n",
       ">      Aspect.set_after_returning (function)\n",
       "\n",
       "Determines what to do after a complete execution of the method (when there are not exceptions).\n",
       "\n",
       "|    | **Details** |\n",
       "| -- | ----------- |\n",
       "| function | The 'to do' function in that moment. |"
      ]
     },
     "execution_count": null,
     "metadata": {},
     "output_type": "execute_result"
    }
   ],
   "source": [
    "show_doc(Aspect.set_after_returning)"
   ]
  },
  {
   "cell_type": "code",
   "execution_count": null,
   "metadata": {},
   "outputs": [
    {
     "data": {
      "text/markdown": [
       "---\n",
       "\n",
       "[source](https://github.com/ruescog/aspectify/blob/main/aspectify/aop.py#L131){target=\"_blank\" style=\"float:right; font-size:smaller\"}\n",
       "\n",
       "### Aspect.set_after_throwing\n",
       "\n",
       ">      Aspect.set_after_throwing (function)\n",
       "\n",
       "Determines what to do when the execution of the method raises an exception.\n",
       "\n",
       "* BEWARE! This method will not handle the exception (it will be finally raised), but it will allow you to do something when the exception is raised.\n",
       "\n",
       "|    | **Details** |\n",
       "| -- | ----------- |\n",
       "| function | The 'to do' function in that moment. |"
      ],
      "text/plain": [
       "---\n",
       "\n",
       "[source](https://github.com/ruescog/aspectify/blob/main/aspectify/aop.py#L131){target=\"_blank\" style=\"float:right; font-size:smaller\"}\n",
       "\n",
       "### Aspect.set_after_throwing\n",
       "\n",
       ">      Aspect.set_after_throwing (function)\n",
       "\n",
       "Determines what to do when the execution of the method raises an exception.\n",
       "\n",
       "* BEWARE! This method will not handle the exception (it will be finally raised), but it will allow you to do something when the exception is raised.\n",
       "\n",
       "|    | **Details** |\n",
       "| -- | ----------- |\n",
       "| function | The 'to do' function in that moment. |"
      ]
     },
     "execution_count": null,
     "metadata": {},
     "output_type": "execute_result"
    }
   ],
   "source": [
    "show_doc(Aspect.set_after_throwing)"
   ]
  },
  {
   "cell_type": "code",
   "execution_count": null,
   "metadata": {},
   "outputs": [
    {
     "data": {
      "text/markdown": [
       "---\n",
       "\n",
       "[source](https://github.com/ruescog/aspectify/blob/main/aspectify/aop.py#L141){target=\"_blank\" style=\"float:right; font-size:smaller\"}\n",
       "\n",
       "### Aspect.set_after\n",
       "\n",
       ">      Aspect.set_after (function)\n",
       "\n",
       "Determines what to do after the execution of the method. This function will be always executed after the `after_returning` and `after_throwing` functions.\n",
       "\n",
       "|    | **Details** |\n",
       "| -- | ----------- |\n",
       "| function | The 'to do' function in that moment. |"
      ],
      "text/plain": [
       "---\n",
       "\n",
       "[source](https://github.com/ruescog/aspectify/blob/main/aspectify/aop.py#L141){target=\"_blank\" style=\"float:right; font-size:smaller\"}\n",
       "\n",
       "### Aspect.set_after\n",
       "\n",
       ">      Aspect.set_after (function)\n",
       "\n",
       "Determines what to do after the execution of the method. This function will be always executed after the `after_returning` and `after_throwing` functions.\n",
       "\n",
       "|    | **Details** |\n",
       "| -- | ----------- |\n",
       "| function | The 'to do' function in that moment. |"
      ]
     },
     "execution_count": null,
     "metadata": {},
     "output_type": "execute_result"
    }
   ],
   "source": [
    "show_doc(Aspect.set_after)"
   ]
  },
  {
   "cell_type": "code",
   "execution_count": null,
   "metadata": {},
   "outputs": [],
   "source": [
    "#| hide\n",
    "import nbdev; nbdev.nbdev_export()"
   ]
  }
 ],
 "metadata": {
  "kernelspec": {
   "display_name": "aspectify",
   "language": "python",
   "name": "aspectify"
  }
 },
 "nbformat": 4,
 "nbformat_minor": 4
}
